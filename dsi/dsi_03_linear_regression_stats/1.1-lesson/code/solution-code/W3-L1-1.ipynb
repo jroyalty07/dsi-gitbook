{
 "cells": [
  {
   "cell_type": "markdown",
   "metadata": {},
   "source": [
    "# Solution Code\n",
    "\n"
   ]
  },
  {
   "cell_type": "code",
   "execution_count": 2,
   "metadata": {
    "collapsed": false
   },
   "outputs": [
    {
     "data": {
      "image/png": "[encoded data removed]",
      "text/plain": [
       "<matplotlib.figure.Figure at 0x10f0fcd90>"
      ]
     },
     "metadata": {},
     "output_type": "display_data"
    }
   ],
   "source": [
    "%matplotlib inline\n",
    "import numpy as np\n",
    "\n",
    "xs = [-1, 1, 2, 3, 4, 1]\n",
    "ys = [0, 3, 4, 7, 10, 6]\n",
    "\n",
    "def beta(xs, ys):\n",
    "    numerator = 0.\n",
    "    denominator = 0.\n",
    "    x_mean = np.mean(xs)\n",
    "    y_mean = np.mean(ys)\n",
    "    for x, y in zip(xs, ys):\n",
    "        numerator += (x - x_mean) * (y - y_mean)\n",
    "        denominator += (x - x_mean) * (x - x_mean)\n",
    "    return numerator / denominator\n",
    "\n",
    "def alpha(xs, ys):\n",
    "    b = beta(xs, ys)\n",
    "    a = np.mean(ys) - b * np.mean(xs)\n",
    "    return a\n",
    "\n",
    "# Plotting\n",
    "\n",
    "from matplotlib import pyplot as plt\n",
    "\n",
    "def predict(xs, ys):\n",
    "    a = alpha(xs, ys)\n",
    "    b = beta(xs, ys)\n",
    "    yhats = [a + b * x for x in xs]\n",
    "    return yhats\n",
    "\n",
    "ps = predict(xs, ys)\n",
    "\n",
    "# The raw data\n",
    "plt.scatter(xs, ys)\n",
    "# The best fit line\n",
    "plt.plot(xs, ps)\n",
    "plt.show()"
   ]
  },
  {
   "cell_type": "code",
   "execution_count": null,
   "metadata": {
    "collapsed": true
   },
   "outputs": [],
   "source": []
  }
 ],
 "metadata": {
  "anaconda-cloud": {},
  "kernelspec": {
   "display_name": "Python [Root]",
   "language": "python",
   "name": "Python [Root]"
  },
  "language_info": {
   "codemirror_mode": {
    "name": "ipython",
    "version": 2
   },
   "file_extension": ".py",
   "mimetype": "text/x-python",
   "name": "python",
   "nbconvert_exporter": "python",
   "pygments_lexer": "ipython2",
   "version": "2.7.12"
  }
 },
 "nbformat": 4,
 "nbformat_minor": 0
}
