{
 "cells": [
  {
   "cell_type": "code",
   "execution_count": 33,
   "metadata": {
    "button": false,
    "collapsed": false,
    "deletable": true,
    "new_sheet": false,
    "run_control": {
     "read_only": false
    }
   },
   "outputs": [
    {
     "name": "stdout",
     "output_type": "stream",
     "text": [
      "   pclass  survived                                             name     sex  \\\n",
      "0       1         1                    Allen, Miss. Elisabeth Walton  female   \n",
      "1       1         1                   Allison, Master. Hudson Trevor    male   \n",
      "2       1         0                     Allison, Miss. Helen Loraine  female   \n",
      "3       1         0             Allison, Mr. Hudson Joshua Creighton    male   \n",
      "4       1         0  Allison, Mrs. Hudson J C (Bessie Waldo Daniels)  female   \n",
      "\n",
      "       age  sibsp  parch  ticket      fare    cabin embarked boat  body  \\\n",
      "0  29.0000      0      0   24160  211.3375       B5        S    2   NaN   \n",
      "1   0.9167      1      2  113781  151.5500  C22 C26        S   11   NaN   \n",
      "2   2.0000      1      2  113781  151.5500  C22 C26        S  NaN   NaN   \n",
      "3  30.0000      1      2  113781  151.5500  C22 C26        S  NaN   135   \n",
      "4  25.0000      1      2  113781  151.5500  C22 C26        S  NaN   NaN   \n",
      "\n",
      "                         home.dest  \n",
      "0                     St Louis, MO  \n",
      "1  Montreal, PQ / Chesterville, ON  \n",
      "2  Montreal, PQ / Chesterville, ON  \n",
      "3  Montreal, PQ / Chesterville, ON  \n",
      "4  Montreal, PQ / Chesterville, ON  \n",
      "['pclass' 'survived' 'name' 'sex' 'age' 'sibsp' 'parch' 'ticket' 'fare'\n",
      " 'cabin' 'embarked' 'boat' 'body' 'home.dest']\n"
     ]
    }
   ],
   "source": [
    "import pandas as pd\n",
    "df = pd.read_csv('./../assets/datasets/titanic.csv')\n",
    "print df.head()\n",
    "print df.columns.values"
   ]
  },
  {
   "cell_type": "code",
   "execution_count": 47,
   "metadata": {
    "collapsed": false,
    "run_control": {}
   },
   "outputs": [
    {
     "name": "stdout",
     "output_type": "stream",
     "text": [
      "['pclass' 'survived' 'name' 'sex' 'age' 'sibsp' 'parch' 'ticket' 'fare'\n",
      " 'cabin' 'embarked' 'boat' 'body' 'home.dest']\n",
      "682\n",
      "127\n"
     ]
    }
   ],
   "source": [
    "for row in df.iterrows():\n",
    "    print str(row[1]['sex']) + \":\" + str(row[1]['survived']) + \":\" + row[1]['name']\n",
    "    \n",
    "print df.columns.values\n",
    "np_df = df.as_matrix()\n",
    "#for row in np_df:\n",
    "#    print row[2]\n",
    "\n",
    "male = [[row[3], row[1]] for row in np_df if row[3] == 'male' and not row[1]]\n",
    "female = [[row[3], row[1]] for row in np_df if row[3] == 'female' and not row[1]]\n",
    "print len(male)\n",
    "print len(female)"
   ]
  },
  {
   "cell_type": "code",
   "execution_count": 54,
   "metadata": {
    "collapsed": false,
    "run_control": {}
   },
   "outputs": [
    {
     "name": "stdout",
     "output_type": "stream",
     "text": [
      "0.809015421115\n",
      "682.0\n",
      "843.0\n"
     ]
    }
   ],
   "source": [
    "males = float(len(male))\n",
    "num_male = float(len([row[3] for row in np_df if row[3] == 'male']))\n",
    "\n",
    "percent_m_died = males / num_male\n",
    "print percent_m_died\n",
    "print males\n",
    "print num_male"
   ]
  },
  {
   "cell_type": "code",
   "execution_count": 55,
   "metadata": {
    "collapsed": false,
    "run_control": {}
   },
   "outputs": [
    {
     "name": "stdout",
     "output_type": "stream",
     "text": [
      "0.272532188841\n",
      "127.0\n",
      "466.0\n"
     ]
    }
   ],
   "source": [
    "females = float(len(female))\n",
    "num_female = float(len([row[3] for row in np_df if row[3] == 'female']))\n",
    "\n",
    "percent_m_died = females / num_female\n",
    "print percent_m_died\n",
    "print females\n",
    "print num_female"
   ]
  },
  {
   "cell_type": "code",
   "execution_count": 60,
   "metadata": {
    "collapsed": false,
    "run_control": {}
   },
   "outputs": [
    {
     "name": "stdout",
     "output_type": "stream",
     "text": [
      "Died:  23.3538305693\n",
      "Living:  49.3611836\n"
     ]
    }
   ],
   "source": [
    "def isnan(value):\n",
    "  try:\n",
    "      import math\n",
    "      return math.isnan(float(value))\n",
    "  except:\n",
    "      return False\n",
    "\n",
    "died = [row[8] for row in np_df if not row[1] and not isnan(row[8])]\n",
    "living = [row[8] for row in np_df if row[1] and not isnan(row[8])]\n",
    "len_died = len(died)\n",
    "len_living = len(living)\n",
    "\n",
    "died = sum(died) / len_died\n",
    "living = sum(living) / len_living\n",
    "\n",
    "print \"Died: \" , died\n",
    "print \"Living: \" , living"
   ]
  },
  {
   "cell_type": "code",
   "execution_count": null,
   "metadata": {
    "collapsed": true,
    "run_control": {}
   },
   "outputs": [],
   "source": []
  }
 ],
 "metadata": {
  "kernelspec": {
   "display_name": "Python 2",
   "language": "python",
   "name": "python2"
  },
  "language_info": {
   "codemirror_mode": {
    "name": "ipython",
    "version": 2
   },
   "file_extension": ".py",
   "mimetype": "text/x-python",
   "name": "python",
   "nbconvert_exporter": "python",
   "pygments_lexer": "ipython2",
   "version": "2.7"
  }
 },
 "nbformat": 4,
 "nbformat_minor": 0
}
